{
 "cells": [
  {
   "cell_type": "markdown",
   "metadata": {
    "id": "YxFz7YclWI4H"
   },
   "source": [
    "We will be using XGBoost Regression model to predict the price of house\n",
    "\n",
    "We will be using R squared to check accuracy"
   ]
  },
  {
   "cell_type": "code",
   "execution_count": 40,
   "metadata": {
    "id": "nmyOwW9TVrsm"
   },
   "outputs": [],
   "source": [
    "import numpy as np\n",
    "import pandas as pd\n",
    "import seaborn as sns\n",
    "import matplotlib.pyplot as plt\n",
    "import sklearn.datasets\n",
    "from sklearn.model_selection import train_test_split\n",
    "from xgboost import XGBRegressor\n",
    "from sklearn.metrics import r2_score,mean_absolute_error\n"
   ]
  },
  {
   "cell_type": "code",
   "execution_count": 34,
   "metadata": {
    "colab": {
     "base_uri": "https://localhost:8080/"
    },
    "id": "R9Id60p4WRUY",
    "outputId": "c008119f-0fdc-47bf-e19d-d2932cb232dc"
   },
   "outputs": [
    {
     "name": "stdout",
     "output_type": "stream",
     "text": [
      "        crim    zn  indus  chas    nox     rm   age     dis  rad  tax  ptratio       b  lstat  medv\n",
      "0    0.00632  18.0   2.31     0  0.538  6.575  65.2  4.0900    1  296     15.3  396.90   4.98  24.0\n",
      "1    0.02731   0.0   7.07     0  0.469  6.421  78.9  4.9671    2  242     17.8  396.90   9.14  21.6\n",
      "2    0.02729   0.0   7.07     0  0.469  7.185  61.1  4.9671    2  242     17.8  392.83   4.03  34.7\n",
      "3    0.03237   0.0   2.18     0  0.458  6.998  45.8  6.0622    3  222     18.7  394.63   2.94  33.4\n",
      "4    0.06905   0.0   2.18     0  0.458  7.147  54.2  6.0622    3  222     18.7  396.90   5.33  36.2\n",
      "..       ...   ...    ...   ...    ...    ...   ...     ...  ...  ...      ...     ...    ...   ...\n",
      "501  0.06263   0.0  11.93     0  0.573  6.593  69.1  2.4786    1  273     21.0  391.99   9.67  22.4\n",
      "502  0.04527   0.0  11.93     0  0.573  6.120  76.7  2.2875    1  273     21.0  396.90   9.08  20.6\n",
      "503  0.06076   0.0  11.93     0  0.573  6.976  91.0  2.1675    1  273     21.0  396.90   5.64  23.9\n",
      "504  0.10959   0.0  11.93     0  0.573  6.794  89.3  2.3889    1  273     21.0  393.45   6.48  22.0\n",
      "505  0.04741   0.0  11.93     0  0.573  6.030  80.8  2.5050    1  273     21.0  396.90   7.88  11.9\n",
      "\n",
      "[506 rows x 14 columns]\n"
     ]
    }
   ],
   "source": [
    "house_data = pd.read_csv(\"/content/BostonHousing.csv\")\n",
    "print(house_data)"
   ]
  },
  {
   "cell_type": "code",
   "execution_count": 35,
   "metadata": {
    "colab": {
     "base_uri": "https://localhost:8080/"
    },
    "id": "ab_lYH4fbhM2",
    "outputId": "02d76e4e-5317-47e8-c2f0-c7837f9a68b2"
   },
   "outputs": [
    {
     "data": {
      "text/plain": [
       "crim       0\n",
       "zn         0\n",
       "indus      0\n",
       "chas       0\n",
       "nox        0\n",
       "rm         5\n",
       "age        0\n",
       "dis        0\n",
       "rad        0\n",
       "tax        0\n",
       "ptratio    0\n",
       "b          0\n",
       "lstat      0\n",
       "price      0\n",
       "dtype: int64"
      ]
     },
     "execution_count": 35,
     "metadata": {},
     "output_type": "execute_result"
    }
   ],
   "source": [
    "house_data.shape\n",
    "house_data.rename(columns={'medv': 'price'}, inplace=True)\n",
    "house_data.isnull().sum()"
   ]
  },
  {
   "cell_type": "code",
   "execution_count": 36,
   "metadata": {
    "id": "Gr9POQhndNEG"
   },
   "outputs": [],
   "source": [
    "X = house_data.drop(columns = 'price',axis = 1)\n",
    "Y = house_data['price']\n",
    "X_train,X_test,Y_train,Y_test = train_test_split(X,Y,test_size=0.2, random_state=2)\n"
   ]
  },
  {
   "cell_type": "markdown",
   "metadata": {
    "id": "NyBK2vGhiHIs"
   },
   "source": [
    "Model Training and Testing\n"
   ]
  },
  {
   "cell_type": "code",
   "execution_count": 37,
   "metadata": {
    "colab": {
     "base_uri": "https://localhost:8080/",
     "height": 248
    },
    "id": "7jSRZr3edGgP",
    "outputId": "cdb01d5a-e8de-45b6-8295-b9d9a11eb251"
   },
   "outputs": [
    {
     "data": {
      "text/html": [
       "<style>#sk-container-id-2 {color: black;background-color: white;}#sk-container-id-2 pre{padding: 0;}#sk-container-id-2 div.sk-toggleable {background-color: white;}#sk-container-id-2 label.sk-toggleable__label {cursor: pointer;display: block;width: 100%;margin-bottom: 0;padding: 0.3em;box-sizing: border-box;text-align: center;}#sk-container-id-2 label.sk-toggleable__label-arrow:before {content: \"▸\";float: left;margin-right: 0.25em;color: #696969;}#sk-container-id-2 label.sk-toggleable__label-arrow:hover:before {color: black;}#sk-container-id-2 div.sk-estimator:hover label.sk-toggleable__label-arrow:before {color: black;}#sk-container-id-2 div.sk-toggleable__content {max-height: 0;max-width: 0;overflow: hidden;text-align: left;background-color: #f0f8ff;}#sk-container-id-2 div.sk-toggleable__content pre {margin: 0.2em;color: black;border-radius: 0.25em;background-color: #f0f8ff;}#sk-container-id-2 input.sk-toggleable__control:checked~div.sk-toggleable__content {max-height: 200px;max-width: 100%;overflow: auto;}#sk-container-id-2 input.sk-toggleable__control:checked~label.sk-toggleable__label-arrow:before {content: \"▾\";}#sk-container-id-2 div.sk-estimator input.sk-toggleable__control:checked~label.sk-toggleable__label {background-color: #d4ebff;}#sk-container-id-2 div.sk-label input.sk-toggleable__control:checked~label.sk-toggleable__label {background-color: #d4ebff;}#sk-container-id-2 input.sk-hidden--visually {border: 0;clip: rect(1px 1px 1px 1px);clip: rect(1px, 1px, 1px, 1px);height: 1px;margin: -1px;overflow: hidden;padding: 0;position: absolute;width: 1px;}#sk-container-id-2 div.sk-estimator {font-family: monospace;background-color: #f0f8ff;border: 1px dotted black;border-radius: 0.25em;box-sizing: border-box;margin-bottom: 0.5em;}#sk-container-id-2 div.sk-estimator:hover {background-color: #d4ebff;}#sk-container-id-2 div.sk-parallel-item::after {content: \"\";width: 100%;border-bottom: 1px solid gray;flex-grow: 1;}#sk-container-id-2 div.sk-label:hover label.sk-toggleable__label {background-color: #d4ebff;}#sk-container-id-2 div.sk-serial::before {content: \"\";position: absolute;border-left: 1px solid gray;box-sizing: border-box;top: 0;bottom: 0;left: 50%;z-index: 0;}#sk-container-id-2 div.sk-serial {display: flex;flex-direction: column;align-items: center;background-color: white;padding-right: 0.2em;padding-left: 0.2em;position: relative;}#sk-container-id-2 div.sk-item {position: relative;z-index: 1;}#sk-container-id-2 div.sk-parallel {display: flex;align-items: stretch;justify-content: center;background-color: white;position: relative;}#sk-container-id-2 div.sk-item::before, #sk-container-id-2 div.sk-parallel-item::before {content: \"\";position: absolute;border-left: 1px solid gray;box-sizing: border-box;top: 0;bottom: 0;left: 50%;z-index: -1;}#sk-container-id-2 div.sk-parallel-item {display: flex;flex-direction: column;z-index: 1;position: relative;background-color: white;}#sk-container-id-2 div.sk-parallel-item:first-child::after {align-self: flex-end;width: 50%;}#sk-container-id-2 div.sk-parallel-item:last-child::after {align-self: flex-start;width: 50%;}#sk-container-id-2 div.sk-parallel-item:only-child::after {width: 0;}#sk-container-id-2 div.sk-dashed-wrapped {border: 1px dashed gray;margin: 0 0.4em 0.5em 0.4em;box-sizing: border-box;padding-bottom: 0.4em;background-color: white;}#sk-container-id-2 div.sk-label label {font-family: monospace;font-weight: bold;display: inline-block;line-height: 1.2em;}#sk-container-id-2 div.sk-label-container {text-align: center;}#sk-container-id-2 div.sk-container {/* jupyter's `normalize.less` sets `[hidden] { display: none; }` but bootstrap.min.css set `[hidden] { display: none !important; }` so we also need the `!important` here to be able to override the default hidden behavior on the sphinx rendered scikit-learn.org. See: https://github.com/scikit-learn/scikit-learn/issues/21755 */display: inline-block !important;position: relative;}#sk-container-id-2 div.sk-text-repr-fallback {display: none;}</style><div id=\"sk-container-id-2\" class=\"sk-top-container\"><div class=\"sk-text-repr-fallback\"><pre>XGBRegressor(base_score=None, booster=None, callbacks=None,\n",
       "             colsample_bylevel=None, colsample_bynode=None,\n",
       "             colsample_bytree=None, device=None, early_stopping_rounds=None,\n",
       "             enable_categorical=False, eval_metric=None, feature_types=None,\n",
       "             gamma=None, grow_policy=None, importance_type=None,\n",
       "             interaction_constraints=None, learning_rate=None, max_bin=None,\n",
       "             max_cat_threshold=None, max_cat_to_onehot=None,\n",
       "             max_delta_step=None, max_depth=None, max_leaves=None,\n",
       "             min_child_weight=None, missing=nan, monotone_constraints=None,\n",
       "             multi_strategy=None, n_estimators=None, n_jobs=None,\n",
       "             num_parallel_tree=None, random_state=None, ...)</pre><b>In a Jupyter environment, please rerun this cell to show the HTML representation or trust the notebook. <br />On GitHub, the HTML representation is unable to render, please try loading this page with nbviewer.org.</b></div><div class=\"sk-container\" hidden><div class=\"sk-item\"><div class=\"sk-estimator sk-toggleable\"><input class=\"sk-toggleable__control sk-hidden--visually\" id=\"sk-estimator-id-2\" type=\"checkbox\" checked><label for=\"sk-estimator-id-2\" class=\"sk-toggleable__label sk-toggleable__label-arrow\">XGBRegressor</label><div class=\"sk-toggleable__content\"><pre>XGBRegressor(base_score=None, booster=None, callbacks=None,\n",
       "             colsample_bylevel=None, colsample_bynode=None,\n",
       "             colsample_bytree=None, device=None, early_stopping_rounds=None,\n",
       "             enable_categorical=False, eval_metric=None, feature_types=None,\n",
       "             gamma=None, grow_policy=None, importance_type=None,\n",
       "             interaction_constraints=None, learning_rate=None, max_bin=None,\n",
       "             max_cat_threshold=None, max_cat_to_onehot=None,\n",
       "             max_delta_step=None, max_depth=None, max_leaves=None,\n",
       "             min_child_weight=None, missing=nan, monotone_constraints=None,\n",
       "             multi_strategy=None, n_estimators=None, n_jobs=None,\n",
       "             num_parallel_tree=None, random_state=None, ...)</pre></div></div></div></div></div>"
      ],
      "text/plain": [
       "XGBRegressor(base_score=None, booster=None, callbacks=None,\n",
       "             colsample_bylevel=None, colsample_bynode=None,\n",
       "             colsample_bytree=None, device=None, early_stopping_rounds=None,\n",
       "             enable_categorical=False, eval_metric=None, feature_types=None,\n",
       "             gamma=None, grow_policy=None, importance_type=None,\n",
       "             interaction_constraints=None, learning_rate=None, max_bin=None,\n",
       "             max_cat_threshold=None, max_cat_to_onehot=None,\n",
       "             max_delta_step=None, max_depth=None, max_leaves=None,\n",
       "             min_child_weight=None, missing=nan, monotone_constraints=None,\n",
       "             multi_strategy=None, n_estimators=None, n_jobs=None,\n",
       "             num_parallel_tree=None, random_state=None, ...)"
      ]
     },
     "execution_count": 37,
     "metadata": {},
     "output_type": "execute_result"
    }
   ],
   "source": [
    "model = XGBRegressor()\n",
    "model.fit(X_train,Y_train)"
   ]
  },
  {
   "cell_type": "markdown",
   "metadata": {
    "id": "7ARB0MMBkhqp"
   },
   "source": [
    "Training Data"
   ]
  },
  {
   "cell_type": "code",
   "execution_count": 38,
   "metadata": {
    "colab": {
     "base_uri": "https://localhost:8080/"
    },
    "id": "giovqvPDiQNq",
    "outputId": "5f338e27-8c9d-486c-880b-35b2ab25faeb"
   },
   "outputs": [
    {
     "name": "stdout",
     "output_type": "stream",
     "text": [
      "[23.098213  20.999493  20.100712  34.69146   13.908512  13.499188\n",
      " 22.005543  15.206342  10.8988695 22.677683  13.802292   5.5992246\n",
      " 29.79903   50.000896  34.881298  20.619646  23.372395  19.202538\n",
      " 32.697285  19.604185  26.987984   8.400937  45.993626  21.712433\n",
      " 27.08105   19.349197  19.29314   24.7933    22.61487   31.693779\n",
      " 18.539114   8.702092  17.40409   23.699408  13.297645  10.494993\n",
      " 12.669688  25.000593  19.698307  14.9110775 24.21232   25.000761\n",
      " 14.900763  17.013046  15.597457  12.68823   24.503881  14.999328\n",
      " 49.99955   17.532228  21.199259  32.010696  15.601823  22.893911\n",
      " 19.322012  18.73874   23.292349  37.210262  30.105167  33.121197\n",
      " 20.999691  49.985893  13.400765   5.009729  16.502712   8.40547\n",
      " 28.691751  19.494135  20.596006  45.400337  39.80286   33.40684\n",
      " 19.829916  33.40482   25.281872  49.998436  12.519731  17.429428\n",
      " 18.605316  22.591347  50.00362   23.805405  23.30907   23.092073\n",
      " 41.70726   16.111097  31.623669  36.082043   6.9961967 20.400877\n",
      " 19.989061  11.98513   25.046114  49.968384  37.89933   23.098452\n",
      " 41.309887  17.590723  16.296797  30.049692  22.863256  19.800455\n",
      " 17.10464   18.901573  18.911537  22.599606  23.177149  33.20601\n",
      " 14.998805  11.705264  18.802998  20.812239  17.996387  19.630117\n",
      " 49.998535  17.201649  16.404898  17.50357   14.599329  33.103542\n",
      " 14.500418  43.812004  34.903797  20.394728  14.62216    8.093705\n",
      " 11.792478  11.815979  18.68806    6.304934  23.985     13.07154\n",
      " 19.601086  49.98379   22.312391  18.926582  31.205538  20.703587\n",
      " 32.201614  36.17072   14.194604  15.699518  49.991993  20.413244\n",
      " 16.1949    13.396754  49.992847  31.607615  12.266604  19.208345\n",
      " 29.793688  31.506674  22.800661  10.199806  24.09686   23.701332\n",
      " 22.00898   13.798573  28.402477  33.16191   13.103114  19.000732\n",
      " 26.61407   36.977833  30.79909   22.790192  10.204003  22.203903\n",
      " 24.473537  36.195976  23.099493  20.124691  19.486431  10.798922\n",
      " 22.708363  19.520206  20.105482   9.618499  42.799683  48.787125\n",
      " 13.107633  20.297323  24.777777  14.100037  21.696146  22.159771\n",
      " 33.000343  21.096354  24.987467  19.10297   32.395473  13.60095\n",
      " 15.076382  23.065681  27.493874  19.400146  26.486158  27.50132\n",
      " 28.696423  21.219297  18.703724  26.69608   14.009387  21.687016\n",
      " 18.36929   43.097454  29.084362  20.295773  23.70212   18.305271\n",
      " 17.203133  18.31718   24.379559  26.407068  19.093657  13.302053\n",
      " 22.151814  22.193771   8.535822  18.900906  21.794275  19.301249\n",
      " 18.198235   7.5031695 22.39194   20.005772  14.405179  22.504189\n",
      " 28.496006  21.609188  13.797945  20.4931    21.902758  23.101397\n",
      " 49.996716  16.235315  30.304276  50.010593  17.784084  19.066183\n",
      " 10.402657  20.361696  16.504766  17.198158  16.73516   19.542725\n",
      " 30.511305  29.022295  19.556704  23.16179   24.410498   9.503701\n",
      " 23.889511  49.992424  21.190037  22.59402   20.004858  13.400503\n",
      " 19.992882  17.11022   12.705852  23.011364  15.190408  20.60995\n",
      " 26.204994  18.10329   24.090755  14.101646  21.70381   20.07812\n",
      " 24.99523   27.912807  22.92296   18.506147  22.195614  23.998285\n",
      " 14.794136  19.883074  24.399878  17.789375  24.592009  32.00416\n",
      " 17.786402  23.310347  16.102678  13.006888  11.000934  24.287457\n",
      " 15.598231  35.21383   19.607826  42.306316   8.799025  24.411901\n",
      " 14.106117  15.4000225 17.29131   22.142748  23.090525  44.821854\n",
      " 17.797606  31.496786  22.788765  16.812382  23.909449  12.09243\n",
      " 38.696747  21.405613  15.998646  23.922968  11.903084  24.975605\n",
      "  7.2051916 24.70098   18.194902  22.4938    23.03588   24.301077\n",
      " 17.096863  17.798708  13.505205  27.100895  13.301572  21.899876\n",
      " 20.003866  15.368651  16.601213  22.29691   24.686428  21.391602\n",
      " 22.885778  29.599918  21.8974    19.871151  29.603804  23.415052\n",
      " 13.800514  24.492027  11.905178   7.2101088 20.497765   9.713653\n",
      " 48.292183  25.205778  11.696702  17.40583   14.498054  28.578287\n",
      " 19.38771   22.479158   7.028048  20.606165  22.99739   19.711414\n",
      " 23.702559  25.042511  27.972979  13.398359  14.5203905 20.295069\n",
      " 19.307014  24.094303  14.902324  26.38988   33.303482  23.635433\n",
      " 24.600914  18.504745  20.897694  10.403686  23.30222   13.105769\n",
      " 24.69939   22.596542  20.494177  16.816057  10.196415  33.827606\n",
      " 18.601995  49.997982  23.782066  23.89807   21.177568  18.80857\n",
      "  8.506363  21.496952  23.213255  21.040653  16.612797  28.085756\n",
      " 21.204151  28.38265   14.288944  50.006256  30.999334  25.007833\n",
      " 21.433289  19.00253   28.993366  15.21607   22.79087   21.794004\n",
      " 19.900063  23.777464 ]\n"
     ]
    }
   ],
   "source": [
    "train_prediction = model.predict(X_train)\n",
    "print(train_prediction)"
   ]
  },
  {
   "cell_type": "markdown",
   "metadata": {
    "id": "oshcdQRsjKc_"
   },
   "source": [
    "The above values are the prices predicted by x train"
   ]
  },
  {
   "cell_type": "code",
   "execution_count": 43,
   "metadata": {
    "colab": {
     "base_uri": "https://localhost:8080/"
    },
    "id": "eumDgyDJjOCi",
    "outputId": "0fb38429-aab2-41ca-f529-bbe1393dc344"
   },
   "outputs": [
    {
     "name": "stdout",
     "output_type": "stream",
     "text": [
      "R_squared =  0.9999974930039426\n",
      "Mean Absolute Error =  0.0099853890957219\n"
     ]
    }
   ],
   "source": [
    "R_squared = r2_score(Y_train , train_prediction )\n",
    "Mean_squared = mean_absolute_error(Y_train , train_prediction)\n",
    "print(\"R_squared = \",R_squared)\n",
    "print(\"Mean Absolute Error = \", Mean_squared)"
   ]
  },
  {
   "cell_type": "markdown",
   "metadata": {
    "id": "MMZzUfuokjwS"
   },
   "source": [
    "Testing Data"
   ]
  },
  {
   "cell_type": "code",
   "execution_count": 46,
   "metadata": {
    "colab": {
     "base_uri": "https://localhost:8080/"
    },
    "id": "RuyxuUPFjqKP",
    "outputId": "cbf808ce-f164-4c71-95be-97b928a29320"
   },
   "outputs": [
    {
     "name": "stdout",
     "output_type": "stream",
     "text": [
      "R_squared =  0.9156404620793328\n",
      "Mean Absolute Error =  1.9900942007700595\n"
     ]
    }
   ],
   "source": [
    "test_prediction = model.predict(X_test)\n",
    "r_square_test = r2_score(Y_test,test_prediction)\n",
    "Mean_squared_test = mean_absolute_error(Y_test , test_prediction)\n",
    "print(\"R_squared = \",r_square_test)\n",
    "print(\"Mean Absolute Error = \", Mean_squared_test)"
   ]
  },
  {
   "cell_type": "markdown",
   "metadata": {
    "id": "nYQ_-hwuoPcP"
   },
   "source": [
    "We're using Y_train and Y_test because they represent the actual prices of the houses. In a regression problem like this, Y_train and Y_test are the target variables, or the dependent variables, which we're trying to predict. X_train and X_test are the independent variables, or the features, used to make those predictions."
   ]
  },
  {
   "cell_type": "code",
   "execution_count": 55,
   "metadata": {
    "colab": {
     "base_uri": "https://localhost:8080/",
     "height": 564
    },
    "id": "uEoigF_vmRop",
    "outputId": "51f94988-ee2a-44c8-f876-f021e0cff265"
   },
   "outputs": [
    {
     "data": {
      "image/png": "[encoded data removed]",
      "text/plain": [
       "<Figure size 1000x600 with 1 Axes>"
      ]
     },
     "metadata": {},
     "output_type": "display_data"
    }
   ],
   "source": [
    "plt.figure(figsize=(10, 6))\n",
    "\n",
    "# Scatter plot for training data\n",
    "plt.scatter(Y_train, train_prediction, color='blue', label='Training Data')\n",
    "\n",
    "# Scatter plot for testing data\n",
    "plt.scatter(Y_test, test_prediction, color='red', label='Testing Data')\n",
    "\n",
    "\n",
    "plt.title('Actual vs Predicted House Prices')\n",
    "plt.xlabel('Actual Prices')\n",
    "plt.ylabel('Predicted Prices')\n",
    "plt.legend()\n",
    "plt.show()\n"
   ]
  },
  {
   "cell_type": "code",
   "execution_count": null,
   "metadata": {
    "id": "ojqEEhU4oU4t"
   },
   "outputs": [],
   "source": []
  }
 ],
 "metadata": {
  "colab": {
   "provenance": []
  },
  "kernelspec": {
   "display_name": "Python 3 (ipykernel)",
   "language": "python",
   "name": "python3"
  },
  "language_info": {
   "codemirror_mode": {
    "name": "ipython",
    "version": 3
   },
   "file_extension": ".py",
   "mimetype": "text/x-python",
   "name": "python",
   "nbconvert_exporter": "python",
   "pygments_lexer": "ipython3",
   "version": "3.11.5"
  }
 },
 "nbformat": 4,
 "nbformat_minor": 1
}
